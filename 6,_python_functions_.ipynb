{
  "nbformat": 4,
  "nbformat_minor": 0,
  "metadata": {
    "colab": {
      "provenance": [],
      "authorship_tag": "ABX9TyMIhRtiobThgF78W9ajTWbw",
      "include_colab_link": true
    },
    "kernelspec": {
      "name": "python3",
      "display_name": "Python 3"
    },
    "language_info": {
      "name": "python"
    }
  },
  "cells": [
    {
      "cell_type": "markdown",
      "metadata": {
        "id": "view-in-github",
        "colab_type": "text"
      },
      "source": [
        "<a href=\"https://colab.research.google.com/github/sumiyabintaymostofa/Machine-learning-lab/blob/main/6%2C_python_functions_.ipynb\" target=\"_parent\"><img src=\"https://colab.research.google.com/assets/colab-badge.svg\" alt=\"Open In Colab\"/></a>"
      ]
    },
    {
      "cell_type": "code",
      "source": [
        "# Write a function to generate Pascal's triangle up to a given number of rows.\n",
        "\n",
        "def pascelFunc(n):\n",
        "\n",
        "    result_list = []\n",
        "\n",
        "    for row in range(n+1):\n",
        "        arr = []\n",
        "\n",
        "        for col in range(row+1):\n",
        "            if col == row or col == 0:\n",
        "                arr.append(1)\n",
        "            else:\n",
        "                data = result_list[row - 1][col - 1] + result_list[row - 1][col]\n",
        "                arr.append(data)\n",
        "\n",
        "        result_list.append(arr)\n",
        "\n",
        "    return result_list\n",
        "\n",
        "\n",
        "\n",
        "n = int(input(\"Enter number of rows: \"))\n",
        "\n",
        "result = pascelFunc(n)\n",
        "\n",
        "for x in range(len(result)):\n",
        "\n",
        "    for y in range(len(result[x])):\n",
        "        print(result[x][y], end=\" \")\n",
        "    print(\"\\n\")"
      ],
      "metadata": {
        "colab": {
          "base_uri": "https://localhost:8080/"
        },
        "id": "cc2nnkhHau8E",
        "outputId": "61d420aa-9265-4ff5-bdd0-928f1ef51d4a"
      },
      "execution_count": 33,
      "outputs": [
        {
          "output_type": "stream",
          "name": "stdout",
          "text": [
            "Enter number of rows: 2\n",
            "1 \n",
            "\n",
            "1 1 \n",
            "\n",
            "1 2 1 \n",
            "\n"
          ]
        }
      ]
    },
    {
      "cell_type": "code",
      "source": [],
      "metadata": {
        "id": "np2J7Ljzbt7-"
      },
      "execution_count": null,
      "outputs": []
    }
  ]
}