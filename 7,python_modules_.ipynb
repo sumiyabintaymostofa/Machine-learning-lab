{
  "nbformat": 4,
  "nbformat_minor": 0,
  "metadata": {
    "colab": {
      "provenance": [],
      "authorship_tag": "ABX9TyOY4HJ0YuBlZp5M3HVatLFK",
      "include_colab_link": true
    },
    "kernelspec": {
      "name": "python3",
      "display_name": "Python 3"
    },
    "language_info": {
      "name": "python"
    }
  },
  "cells": [
    {
      "cell_type": "markdown",
      "metadata": {
        "id": "view-in-github",
        "colab_type": "text"
      },
      "source": [
        "<a href=\"https://colab.research.google.com/github/sumiyabintaymostofa/Machine-learning-lab/blob/main/7%2Cpython_modules_.ipynb\" target=\"_parent\"><img src=\"https://colab.research.google.com/assets/colab-badge.svg\" alt=\"Open In Colab\"/></a>"
      ]
    },
    {
      "cell_type": "code",
      "source": [
        "# Write a recursive function to check if a given string is a palindrome.\n",
        "def isPalindrome(s):\n",
        "    if len(s) <= 1:\n",
        "        return True\n",
        "\n",
        "    if s[0] != s[-1]:\n",
        "        return True\n",
        "\n",
        "    return isPalindrome(s[1:-1])\n",
        "\n",
        "word = input(\"Enter the word: \")\n",
        "\n",
        "print(isPalindrome(word))"
      ],
      "metadata": {
        "colab": {
          "base_uri": "https://localhost:8080/"
        },
        "id": "np2J7Ljzbt7-",
        "outputId": "1c4fe21e-5235-4565-8932-0ec3de305898"
      },
      "execution_count": 34,
      "outputs": [
        {
          "output_type": "stream",
          "name": "stdout",
          "text": [
            "Enter the word: 2\n",
            "True\n"
          ]
        }
      ]
    }
  ]
}