{
  "nbformat": 4,
  "nbformat_minor": 0,
  "metadata": {
    "colab": {
      "provenance": [],
      "authorship_tag": "ABX9TyMml/8V3ayOV5xc4THmPvYK",
      "include_colab_link": true
    },
    "kernelspec": {
      "name": "python3",
      "display_name": "Python 3"
    },
    "language_info": {
      "name": "python"
    }
  },
  "cells": [
    {
      "cell_type": "markdown",
      "metadata": {
        "id": "view-in-github",
        "colab_type": "text"
      },
      "source": [
        "<a href=\"https://colab.research.google.com/github/sumiyabintaymostofa/Machine-learning-lab/blob/main/8%2C_python_recursion_.ipynb\" target=\"_parent\"><img src=\"https://colab.research.google.com/assets/colab-badge.svg\" alt=\"Open In Colab\"/></a>"
      ]
    },
    {
      "cell_type": "code",
      "source": [
        "# Write a recursive function to calculate x raised to the power of n. Input: x = 2, n = 3; Output: 8\n",
        "\n",
        "def calcPower(x, n):\n",
        "    if n == 0:\n",
        "        return 1\n",
        "    if x == 0:\n",
        "        return 0\n",
        "\n",
        "    return x * calcPower(x, n - 1)\n",
        "\n",
        "\n",
        "x = int(input(\"Enter x: \"))\n",
        "n = int(input(\"Enter n: \"))\n",
        "\n",
        "result = calcPower(x, n)\n",
        "print(result)"
      ],
      "metadata": {
        "colab": {
          "base_uri": "https://localhost:8080/"
        },
        "id": "0xpYpBuOhoeP",
        "outputId": "27c10718-5aca-47ab-de25-c438c94fea82"
      },
      "execution_count": 35,
      "outputs": [
        {
          "output_type": "stream",
          "name": "stdout",
          "text": [
            "Enter x: 1\n",
            "Enter n: 2\n",
            "1\n"
          ]
        }
      ]
    }
  ]
}