{
  "nbformat": 4,
  "nbformat_minor": 0,
  "metadata": {
    "colab": {
      "provenance": [],
      "authorship_tag": "ABX9TyPhnq5Jvu9f97DeW4fLj6pf",
      "include_colab_link": true
    },
    "kernelspec": {
      "name": "python3",
      "display_name": "Python 3"
    },
    "language_info": {
      "name": "python"
    }
  },
  "cells": [
    {
      "cell_type": "markdown",
      "metadata": {
        "id": "view-in-github",
        "colab_type": "text"
      },
      "source": [
        "<a href=\"https://colab.research.google.com/github/sumiyabintaymostofa/Machine-learning-lab/blob/main/9%2C_python_touple%2Cstring%2Cset_.ipynb\" target=\"_parent\"><img src=\"https://colab.research.google.com/assets/colab-badge.svg\" alt=\"Open In Colab\"/></a>"
      ]
    },
    {
      "cell_type": "code",
      "source": [],
      "metadata": {
        "id": "OwNkfjL-iEyH"
      },
      "execution_count": null,
      "outputs": []
    },
    {
      "cell_type": "code",
      "source": [
        "# Write a program to find all unique elements in the list.\n",
        "\n",
        "myList = [2, 55, 4, 2, 7, 55, 1, 23, 55]\n",
        "\n",
        "uniqueList = list(set(myList))\n",
        "print(uniqueList)"
      ],
      "metadata": {
        "colab": {
          "base_uri": "https://localhost:8080/"
        },
        "id": "pU1WkD5viFkR",
        "outputId": "46cd599d-25b8-4a39-cfcc-851b2652e952"
      },
      "execution_count": 36,
      "outputs": [
        {
          "output_type": "stream",
          "name": "stdout",
          "text": [
            "[1, 2, 4, 7, 23, 55]\n"
          ]
        }
      ]
    }
  ]
}