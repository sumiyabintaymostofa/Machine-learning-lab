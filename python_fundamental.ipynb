{
  "nbformat": 4,
  "nbformat_minor": 0,
  "metadata": {
    "colab": {
      "provenance": [],
      "authorship_tag": "ABX9TyMKDU8XXXCeJyLdQ2v8ZDCR",
      "include_colab_link": true
    },
    "kernelspec": {
      "name": "python3",
      "display_name": "Python 3"
    },
    "language_info": {
      "name": "python"
    }
  },
  "cells": [
    {
      "cell_type": "markdown",
      "metadata": {
        "id": "view-in-github",
        "colab_type": "text"
      },
      "source": [
        "<a href=\"https://colab.research.google.com/github/sumiyabintaymostofa/Machine-learning-lab/blob/main/python_fundamental.ipynb\" target=\"_parent\"><img src=\"https://colab.research.google.com/assets/colab-badge.svg\" alt=\"Open In Colab\"/></a>"
      ]
    },
    {
      "cell_type": "code",
      "source": [
        "A , B , C = 500, 500.25, 'CSE'\n",
        "\n",
        "print (\"A = \", A)\n",
        "print (\"B = \", B)\n",
        "print (\"C = \", C)"
      ],
      "metadata": {
        "id": "w6fgBFceeHcV",
        "colab": {
          "base_uri": "https://localhost:8080/"
        },
        "outputId": "952fac2b-7fc9-4da6-e9e3-b67499698a2e"
      },
      "execution_count": 4,
      "outputs": [
        {
          "output_type": "stream",
          "name": "stdout",
          "text": [
            "A =  500\n",
            "B =  500.25\n",
            "C =  CSE\n"
          ]
        }
      ]
    },
    {
      "cell_type": "code",
      "source": [],
      "metadata": {
        "id": "YHWPgSv0fVbN"
      },
      "execution_count": null,
      "outputs": []
    }
  ]
}